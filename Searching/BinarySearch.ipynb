{
  "nbformat": 4,
  "nbformat_minor": 0,
  "metadata": {
    "colab": {
      "provenance": []
    },
    "kernelspec": {
      "name": "python3",
      "display_name": "Python 3"
    },
    "language_info": {
      "name": "python"
    }
  },
  "cells": [
    {
      "cell_type": "code",
      "execution_count": null,
      "metadata": {
        "id": "XHRZr1PY9d9Q",
        "colab": {
          "base_uri": "https://localhost:8080/"
        },
        "outputId": "fdb3d73b-3cbe-46e2-b420-c7c0964242b2"
      },
      "outputs": [
        {
          "output_type": "stream",
          "name": "stdout",
          "text": [
            "Searching element is present at the index 0\n",
            "Searching element is present at the index 1\n",
            "Searching element is present at the index 2\n",
            "Searching element is present at the index 3\n",
            "Searching element is present at the index 4\n",
            "Searching element is present at the index 5\n",
            "Searching element is present at the index 6\n",
            "Searching element is present at the index 7\n",
            "Searching element is present at the index 8\n",
            "Searching element is present at the index 9\n"
          ]
        }
      ],
      "source": [
        "def BinarySearch(arr, x,i,j):\n",
        "  while j >= i:\n",
        "    mid = i + (j-i) //2\n",
        "    if arr[mid]== x:\n",
        "      return mid\n",
        "    elif arr[mid] > x:\n",
        "      j = mid -1\n",
        "    elif arr[mid] < x:\n",
        "      i = mid+1\n",
        "  return -1\n",
        "\n",
        "arr = [2,4,5,6,7,8,23,45,67,89]\n",
        "i = 0\n",
        "j = len(arr) - 1\n",
        "for w in arr:\n",
        "  result = BinarySearch(arr,w, i, j)\n",
        "  print(\"Searching element is present at the index\", result)\n"
      ]
    },
    {
      "cell_type": "code",
      "source": [
        "def BinarySearch(arr, x,i,j):\n",
        "  while i <= j:\n",
        "    mid = i + (j-i)//2\n",
        "    if arr[mid]== x:\n",
        "      return mid\n",
        "    elif arr[mid] < x:\n",
        "      return BinarySearch(arr,x,mid+1,j)\n",
        "    else:\n",
        "      return BinarySearch(arr,x,i,mid-1)\n",
        "  return -1\n",
        "arr = [2,4,5,6,7,8,23,45,67,89]\n",
        "i = 0\n",
        "j = len(arr) - 1\n",
        "for w in arr:\n",
        "  result = BinarySearch(arr,w, i, j)\n",
        "  print(\"Searching element is present at the index\", result)"
      ],
      "metadata": {
        "id": "4SZu1oW8ML7d",
        "colab": {
          "base_uri": "https://localhost:8080/"
        },
        "outputId": "c484e047-7174-44cd-d4fd-9ce22e3109c7"
      },
      "execution_count": null,
      "outputs": [
        {
          "output_type": "stream",
          "name": "stdout",
          "text": [
            "Searching element is present at the index 0\n",
            "Searching element is present at the index 1\n",
            "Searching element is present at the index 2\n",
            "Searching element is present at the index 3\n",
            "Searching element is present at the index 4\n",
            "Searching element is present at the index 5\n",
            "Searching element is present at the index 6\n",
            "Searching element is present at the index 7\n",
            "Searching element is present at the index 8\n",
            "Searching element is present at the index 9\n"
          ]
        }
      ]
    },
    {
      "cell_type": "code",
      "source": [
        "## Implementation of Binary Search using recursion\n",
        "## Function Definition\n",
        "## Time complexity : O(logn)\n",
        "def binarySearch(arr, i, j, x):\n",
        "       while i <= j:\n",
        "        mid = i + (j-i)//2\n",
        "        if arr[mid] == x:\n",
        "            return mid\n",
        "        elif arr[mid] < x:\n",
        "            return binarySearch(arr, mid+1, j, x)\n",
        "        else:\n",
        "            return binarySearch(arr, i, mid-1, x)\n",
        "    return -1\n",
        "\n",
        "## Driver code\n",
        "## Sorted array\n",
        "arr = [2,4,5,6,7,8,23,45,67,89]\n",
        "i = 0\n",
        "j = len(arr) - 1\n",
        "## Function call\n",
        "for w in arr:\n",
        "  result = binarySearch(arr, i, j, w)\n",
        "  print(\"Searching element is present at the index\", result)\n"
      ],
      "metadata": {
        "colab": {
          "base_uri": "https://localhost:8080/"
        },
        "id": "1oEYPTTKG_Aq",
        "outputId": "f44f925a-0bb9-4966-bce1-5672f75450bf"
      },
      "execution_count": null,
      "outputs": [
        {
          "output_type": "stream",
          "name": "stdout",
          "text": [
            "Searching element is present at the index 0\n",
            "Searching element is present at the index 1\n",
            "Searching element is present at the index 2\n",
            "Searching element is present at the index 3\n",
            "Searching element is present at the index 4\n",
            "Searching element is present at the index 5\n",
            "Searching element is present at the index 6\n",
            "Searching element is present at the index 7\n",
            "Searching element is present at the index 8\n",
            "Searching element is present at the index 9\n"
          ]
        }
      ]
    },
    {
      "cell_type": "markdown",
      "source": [
        "Problem : return the index of first infinite element"
      ],
      "metadata": {
        "id": "DjmH3C1kX6UW"
      }
    },
    {
      "cell_type": "markdown",
      "source": [
        "Finding Element in 2D Array using Binary search"
      ],
      "metadata": {
        "id": "ts3SrfW2i_57"
      }
    },
    {
      "cell_type": "code",
      "source": [
        "def BinarySearch(arr, x):\n",
        "  m= len(arr)\n",
        "  n= len(arr[0])\n",
        "  i=0\n",
        "  j= (m*n) - 1\n",
        "  while j >= i:\n",
        "    mid = i + (j-i) //2\n",
        "    if arr[mid//n][mid%n] == x:\n",
        "      return mid//n , mid%n\n",
        "    elif arr[mid//n][mid%n] > x:\n",
        "      j = mid -1\n",
        "    elif arr[mid//n][mid%n]  < x:\n",
        "      i = mid+1\n",
        "  return -1\n",
        "\n",
        "arr = [[1, 2, 3],[4, 5, 6],[7, 8, 51]]\n",
        "BinarySearch(arr,5)\n",
        "\n",
        "#column no = index % no of column\n",
        "#row no =   index // no of row"
      ],
      "metadata": {
        "id": "5PKSJmLtREwA",
        "colab": {
          "base_uri": "https://localhost:8080/"
        },
        "outputId": "34c8ca4c-c4e6-4854-b3b7-70f24ddadf0f"
      },
      "execution_count": null,
      "outputs": [
        {
          "output_type": "execute_result",
          "data": {
            "text/plain": [
              "(1, 1)"
            ]
          },
          "metadata": {},
          "execution_count": 16
        }
      ]
    },
    {
      "cell_type": "code",
      "source": [],
      "metadata": {
        "id": "21QUgd50gVVx"
      },
      "execution_count": null,
      "outputs": []
    }
  ]
}